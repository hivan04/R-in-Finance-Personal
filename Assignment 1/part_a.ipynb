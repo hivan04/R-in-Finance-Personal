{
 "cells": [
  {
   "cell_type": "code",
   "execution_count": 149,
   "id": "255c40aa",
   "metadata": {
    "vscode": {
     "languageId": "r"
    }
   },
   "outputs": [
    {
     "data": {
      "text/html": [
       "<table class=\"dataframe\">\n",
       "<caption>A data.frame: 6 × 12</caption>\n",
       "<thead>\n",
       "\t<tr><th></th><th scope=col>GVKEY</th><th scope=col>iid</th><th scope=col>datadate</th><th scope=col>tic</th><th scope=col>conm</th><th scope=col>cshtrd</th><th scope=col>prccd</th><th scope=col>prchd</th><th scope=col>prcld</th><th scope=col>prcod</th><th scope=col>exchg</th><th scope=col>sic</th></tr>\n",
       "\t<tr><th></th><th scope=col>&lt;int&gt;</th><th scope=col>&lt;int&gt;</th><th scope=col>&lt;chr&gt;</th><th scope=col>&lt;chr&gt;</th><th scope=col>&lt;chr&gt;</th><th scope=col>&lt;int&gt;</th><th scope=col>&lt;dbl&gt;</th><th scope=col>&lt;dbl&gt;</th><th scope=col>&lt;dbl&gt;</th><th scope=col>&lt;dbl&gt;</th><th scope=col>&lt;int&gt;</th><th scope=col>&lt;int&gt;</th></tr>\n",
       "</thead>\n",
       "<tbody>\n",
       "\t<tr><th scope=row>1</th><td>186785</td><td>1</td><td>01/09/2020</td><td>ARCO</td><td>ARCOS DORADOS HOLDINGS INC</td><td> 813895</td><td>4.47</td><td>4.540</td><td>4.394</td><td>4.41</td><td>11</td><td>5812</td></tr>\n",
       "\t<tr><th scope=row>2</th><td>186785</td><td>1</td><td>02/09/2020</td><td>ARCO</td><td>ARCOS DORADOS HOLDINGS INC</td><td> 518021</td><td>4.48</td><td>4.522</td><td>4.400</td><td>4.49</td><td>11</td><td>5812</td></tr>\n",
       "\t<tr><th scope=row>3</th><td>186785</td><td>1</td><td>03/09/2020</td><td>ARCO</td><td>ARCOS DORADOS HOLDINGS INC</td><td> 947825</td><td>4.44</td><td>4.525</td><td>4.360</td><td>4.48</td><td>11</td><td>5812</td></tr>\n",
       "\t<tr><th scope=row>4</th><td>186785</td><td>1</td><td>04/09/2020</td><td>ARCO</td><td>ARCOS DORADOS HOLDINGS INC</td><td> 534286</td><td>4.41</td><td>4.490</td><td>4.280</td><td>4.48</td><td>11</td><td>5812</td></tr>\n",
       "\t<tr><th scope=row>5</th><td>186785</td><td>1</td><td>08/09/2020</td><td>ARCO</td><td>ARCOS DORADOS HOLDINGS INC</td><td> 669380</td><td>4.27</td><td>4.415</td><td>4.260</td><td>4.34</td><td>11</td><td>5812</td></tr>\n",
       "\t<tr><th scope=row>6</th><td>186785</td><td>1</td><td>09/09/2020</td><td>ARCO</td><td>ARCOS DORADOS HOLDINGS INC</td><td>1152416</td><td>4.38</td><td>4.420</td><td>4.270</td><td>4.27</td><td>11</td><td>5812</td></tr>\n",
       "</tbody>\n",
       "</table>\n"
      ],
      "text/latex": [
       "A data.frame: 6 × 12\n",
       "\\begin{tabular}{r|llllllllllll}\n",
       "  & GVKEY & iid & datadate & tic & conm & cshtrd & prccd & prchd & prcld & prcod & exchg & sic\\\\\n",
       "  & <int> & <int> & <chr> & <chr> & <chr> & <int> & <dbl> & <dbl> & <dbl> & <dbl> & <int> & <int>\\\\\n",
       "\\hline\n",
       "\t1 & 186785 & 1 & 01/09/2020 & ARCO & ARCOS DORADOS HOLDINGS INC &  813895 & 4.47 & 4.540 & 4.394 & 4.41 & 11 & 5812\\\\\n",
       "\t2 & 186785 & 1 & 02/09/2020 & ARCO & ARCOS DORADOS HOLDINGS INC &  518021 & 4.48 & 4.522 & 4.400 & 4.49 & 11 & 5812\\\\\n",
       "\t3 & 186785 & 1 & 03/09/2020 & ARCO & ARCOS DORADOS HOLDINGS INC &  947825 & 4.44 & 4.525 & 4.360 & 4.48 & 11 & 5812\\\\\n",
       "\t4 & 186785 & 1 & 04/09/2020 & ARCO & ARCOS DORADOS HOLDINGS INC &  534286 & 4.41 & 4.490 & 4.280 & 4.48 & 11 & 5812\\\\\n",
       "\t5 & 186785 & 1 & 08/09/2020 & ARCO & ARCOS DORADOS HOLDINGS INC &  669380 & 4.27 & 4.415 & 4.260 & 4.34 & 11 & 5812\\\\\n",
       "\t6 & 186785 & 1 & 09/09/2020 & ARCO & ARCOS DORADOS HOLDINGS INC & 1152416 & 4.38 & 4.420 & 4.270 & 4.27 & 11 & 5812\\\\\n",
       "\\end{tabular}\n"
      ],
      "text/markdown": [
       "\n",
       "A data.frame: 6 × 12\n",
       "\n",
       "| <!--/--> | GVKEY &lt;int&gt; | iid &lt;int&gt; | datadate &lt;chr&gt; | tic &lt;chr&gt; | conm &lt;chr&gt; | cshtrd &lt;int&gt; | prccd &lt;dbl&gt; | prchd &lt;dbl&gt; | prcld &lt;dbl&gt; | prcod &lt;dbl&gt; | exchg &lt;int&gt; | sic &lt;int&gt; |\n",
       "|---|---|---|---|---|---|---|---|---|---|---|---|---|\n",
       "| 1 | 186785 | 1 | 01/09/2020 | ARCO | ARCOS DORADOS HOLDINGS INC |  813895 | 4.47 | 4.540 | 4.394 | 4.41 | 11 | 5812 |\n",
       "| 2 | 186785 | 1 | 02/09/2020 | ARCO | ARCOS DORADOS HOLDINGS INC |  518021 | 4.48 | 4.522 | 4.400 | 4.49 | 11 | 5812 |\n",
       "| 3 | 186785 | 1 | 03/09/2020 | ARCO | ARCOS DORADOS HOLDINGS INC |  947825 | 4.44 | 4.525 | 4.360 | 4.48 | 11 | 5812 |\n",
       "| 4 | 186785 | 1 | 04/09/2020 | ARCO | ARCOS DORADOS HOLDINGS INC |  534286 | 4.41 | 4.490 | 4.280 | 4.48 | 11 | 5812 |\n",
       "| 5 | 186785 | 1 | 08/09/2020 | ARCO | ARCOS DORADOS HOLDINGS INC |  669380 | 4.27 | 4.415 | 4.260 | 4.34 | 11 | 5812 |\n",
       "| 6 | 186785 | 1 | 09/09/2020 | ARCO | ARCOS DORADOS HOLDINGS INC | 1152416 | 4.38 | 4.420 | 4.270 | 4.27 | 11 | 5812 |\n",
       "\n"
      ],
      "text/plain": [
       "  GVKEY  iid datadate   tic  conm                       cshtrd  prccd prchd\n",
       "1 186785 1   01/09/2020 ARCO ARCOS DORADOS HOLDINGS INC  813895 4.47  4.540\n",
       "2 186785 1   02/09/2020 ARCO ARCOS DORADOS HOLDINGS INC  518021 4.48  4.522\n",
       "3 186785 1   03/09/2020 ARCO ARCOS DORADOS HOLDINGS INC  947825 4.44  4.525\n",
       "4 186785 1   04/09/2020 ARCO ARCOS DORADOS HOLDINGS INC  534286 4.41  4.490\n",
       "5 186785 1   08/09/2020 ARCO ARCOS DORADOS HOLDINGS INC  669380 4.27  4.415\n",
       "6 186785 1   09/09/2020 ARCO ARCOS DORADOS HOLDINGS INC 1152416 4.38  4.420\n",
       "  prcld prcod exchg sic \n",
       "1 4.394 4.41  11    5812\n",
       "2 4.400 4.49  11    5812\n",
       "3 4.360 4.48  11    5812\n",
       "4 4.280 4.48  11    5812\n",
       "5 4.260 4.34  11    5812\n",
       "6 4.270 4.27  11    5812"
      ]
     },
     "metadata": {},
     "output_type": "display_data"
    }
   ],
   "source": [
    "df <- read.csv(\"/Users/ivanhung/Documents/GitHub/R-in-Finance-Personal/Assignment 1/compustat_food_bev.csv\")\n",
    "head(df)"
   ]
  },
  {
   "cell_type": "code",
   "execution_count": 150,
   "id": "5133e27d",
   "metadata": {
    "vscode": {
     "languageId": "r"
    }
   },
   "outputs": [
    {
     "name": "stdout",
     "output_type": "stream",
     "text": [
      "\n",
      "The downloaded binary packages are in\n",
      "\t/var/folders/by/g895l7l128j9y19qqn66xcxh0000gn/T//RtmpYXtjbC/downloaded_packages\n"
     ]
    }
   ],
   "source": [
    "install.packages(\"dplyr\")\n",
    "library(dplyr)"
   ]
  },
  {
   "cell_type": "code",
   "execution_count": 151,
   "id": "50ae6be1",
   "metadata": {
    "vscode": {
     "languageId": "r"
    }
   },
   "outputs": [
    {
     "data": {
      "text/html": [
       "<table class=\"dataframe\">\n",
       "<caption>A data.frame: 54 × 1</caption>\n",
       "<thead>\n",
       "\t<tr><th scope=col>conm</th></tr>\n",
       "\t<tr><th scope=col>&lt;chr&gt;</th></tr>\n",
       "</thead>\n",
       "<tbody>\n",
       "\t<tr><td>ARCOS DORADOS HOLDINGS INC  </td></tr>\n",
       "\t<tr><td>ARK RESTAURANTS CORP        </td></tr>\n",
       "\t<tr><td>ARAMARK                     </td></tr>\n",
       "\t<tr><td>BBQ HOLDINGS INC            </td></tr>\n",
       "\t<tr><td>FLANIGANS ENTERPRISES INC   </td></tr>\n",
       "\t<tr><td>BURGERFI INTERNATIONAL INC  </td></tr>\n",
       "\t<tr><td>BIGLARI HOLDINGS INC        </td></tr>\n",
       "\t<tr><td>BJ'S RESTAURANTS INC        </td></tr>\n",
       "\t<tr><td>BLOOMIN' BRANDS INC         </td></tr>\n",
       "\t<tr><td>DUTCH BROS INC              </td></tr>\n",
       "\t<tr><td>BT BRANDS INC               </td></tr>\n",
       "\t<tr><td>CHEESECAKE FACTORY INC      </td></tr>\n",
       "\t<tr><td>CRACKER BARREL OLD CTRY STOR</td></tr>\n",
       "\t<tr><td>CHUY'S HOLDINGS INC         </td></tr>\n",
       "\t<tr><td>CHIPOTLE MEXICAN GRILL INC  </td></tr>\n",
       "\t<tr><td>CANNAE HOLDINGS INC         </td></tr>\n",
       "\t<tr><td>DENNYS CORP                 </td></tr>\n",
       "\t<tr><td>DUNKIN' BRANDS GROUP INC    </td></tr>\n",
       "\t<tr><td>DOMINO'S PIZZA INC          </td></tr>\n",
       "\t<tr><td>DARDEN RESTAURANTS INC      </td></tr>\n",
       "\t<tr><td>BRINKER INTL INC            </td></tr>\n",
       "\t<tr><td>FAT BRANDS INC              </td></tr>\n",
       "\t<tr><td>FIESTA RESTAURANT GROUP INC </td></tr>\n",
       "\t<tr><td>FIRST WATCH RESTAURA GRO INC</td></tr>\n",
       "\t<tr><td>GRANITE CITY FOOD &amp; BREWERY </td></tr>\n",
       "\t<tr><td>GOOD TIMES RESTAURANTS INC  </td></tr>\n",
       "\t<tr><td>JACK IN THE BOX INC         </td></tr>\n",
       "\t<tr><td>J. ALEXANDER'S HOLDINGS INC </td></tr>\n",
       "\t<tr><td>KURA SUSHI USA INC          </td></tr>\n",
       "\t<tr><td>EL POLLO LOCO HOLDINGS INC  </td></tr>\n",
       "\t<tr><td>LUBYS INC                   </td></tr>\n",
       "\t<tr><td>MCDONALD'S CORP             </td></tr>\n",
       "\t<tr><td><span style=white-space:pre-wrap>NOODLES &amp; CO                </span></td></tr>\n",
       "\t<tr><td>POTBELLY CORP               </td></tr>\n",
       "\t<tr><td>PORTILLO'S INC              </td></tr>\n",
       "\t<tr><td>PAPA JOHNS INTERNATIONAL INC</td></tr>\n",
       "\t<tr><td>RESTAURANT BRANDS INTL INC  </td></tr>\n",
       "\t<tr><td>REBORN COFFEE INC           </td></tr>\n",
       "\t<tr><td>RED ROBIN GOURMET BURGERS   </td></tr>\n",
       "\t<tr><td>RUTHS HOSPITALITY GROUP INC </td></tr>\n",
       "\t<tr><td>STARBUCKS CORP              </td></tr>\n",
       "\t<tr><td>SADOT GROUP INC             </td></tr>\n",
       "\t<tr><td>SWEETGREEN INC              </td></tr>\n",
       "\t<tr><td>SHAKE SHACK INC             </td></tr>\n",
       "\t<tr><td>ONE GP HOSPITALITY (THE)    </td></tr>\n",
       "\t<tr><td>DEL TACO RESTAURANTS INC    </td></tr>\n",
       "\t<tr><td>CARROLS RESTAURANT GROUP INC</td></tr>\n",
       "\t<tr><td>TH INTERNATIONAL LIMITED    </td></tr>\n",
       "\t<tr><td>TEXAS ROADHOUSE INC         </td></tr>\n",
       "\t<tr><td>WENDY'S CO                  </td></tr>\n",
       "\t<tr><td>WINGSTOP INC                </td></tr>\n",
       "\t<tr><td>YOSHIHARU GLOBAL CO         </td></tr>\n",
       "\t<tr><td>YUM BRANDS INC              </td></tr>\n",
       "\t<tr><td>YUM CHINA HOLDINGS INC      </td></tr>\n",
       "</tbody>\n",
       "</table>\n"
      ],
      "text/latex": [
       "A data.frame: 54 × 1\n",
       "\\begin{tabular}{l}\n",
       " conm\\\\\n",
       " <chr>\\\\\n",
       "\\hline\n",
       "\t ARCOS DORADOS HOLDINGS INC  \\\\\n",
       "\t ARK RESTAURANTS CORP        \\\\\n",
       "\t ARAMARK                     \\\\\n",
       "\t BBQ HOLDINGS INC            \\\\\n",
       "\t FLANIGANS ENTERPRISES INC   \\\\\n",
       "\t BURGERFI INTERNATIONAL INC  \\\\\n",
       "\t BIGLARI HOLDINGS INC        \\\\\n",
       "\t BJ'S RESTAURANTS INC        \\\\\n",
       "\t BLOOMIN' BRANDS INC         \\\\\n",
       "\t DUTCH BROS INC              \\\\\n",
       "\t BT BRANDS INC               \\\\\n",
       "\t CHEESECAKE FACTORY INC      \\\\\n",
       "\t CRACKER BARREL OLD CTRY STOR\\\\\n",
       "\t CHUY'S HOLDINGS INC         \\\\\n",
       "\t CHIPOTLE MEXICAN GRILL INC  \\\\\n",
       "\t CANNAE HOLDINGS INC         \\\\\n",
       "\t DENNYS CORP                 \\\\\n",
       "\t DUNKIN' BRANDS GROUP INC    \\\\\n",
       "\t DOMINO'S PIZZA INC          \\\\\n",
       "\t DARDEN RESTAURANTS INC      \\\\\n",
       "\t BRINKER INTL INC            \\\\\n",
       "\t FAT BRANDS INC              \\\\\n",
       "\t FIESTA RESTAURANT GROUP INC \\\\\n",
       "\t FIRST WATCH RESTAURA GRO INC\\\\\n",
       "\t GRANITE CITY FOOD \\& BREWERY \\\\\n",
       "\t GOOD TIMES RESTAURANTS INC  \\\\\n",
       "\t JACK IN THE BOX INC         \\\\\n",
       "\t J. ALEXANDER'S HOLDINGS INC \\\\\n",
       "\t KURA SUSHI USA INC          \\\\\n",
       "\t EL POLLO LOCO HOLDINGS INC  \\\\\n",
       "\t LUBYS INC                   \\\\\n",
       "\t MCDONALD'S CORP             \\\\\n",
       "\t NOODLES \\& CO                \\\\\n",
       "\t POTBELLY CORP               \\\\\n",
       "\t PORTILLO'S INC              \\\\\n",
       "\t PAPA JOHNS INTERNATIONAL INC\\\\\n",
       "\t RESTAURANT BRANDS INTL INC  \\\\\n",
       "\t REBORN COFFEE INC           \\\\\n",
       "\t RED ROBIN GOURMET BURGERS   \\\\\n",
       "\t RUTHS HOSPITALITY GROUP INC \\\\\n",
       "\t STARBUCKS CORP              \\\\\n",
       "\t SADOT GROUP INC             \\\\\n",
       "\t SWEETGREEN INC              \\\\\n",
       "\t SHAKE SHACK INC             \\\\\n",
       "\t ONE GP HOSPITALITY (THE)    \\\\\n",
       "\t DEL TACO RESTAURANTS INC    \\\\\n",
       "\t CARROLS RESTAURANT GROUP INC\\\\\n",
       "\t TH INTERNATIONAL LIMITED    \\\\\n",
       "\t TEXAS ROADHOUSE INC         \\\\\n",
       "\t WENDY'S CO                  \\\\\n",
       "\t WINGSTOP INC                \\\\\n",
       "\t YOSHIHARU GLOBAL CO         \\\\\n",
       "\t YUM BRANDS INC              \\\\\n",
       "\t YUM CHINA HOLDINGS INC      \\\\\n",
       "\\end{tabular}\n"
      ],
      "text/markdown": [
       "\n",
       "A data.frame: 54 × 1\n",
       "\n",
       "| conm &lt;chr&gt; |\n",
       "|---|\n",
       "| ARCOS DORADOS HOLDINGS INC   |\n",
       "| ARK RESTAURANTS CORP         |\n",
       "| ARAMARK                      |\n",
       "| BBQ HOLDINGS INC             |\n",
       "| FLANIGANS ENTERPRISES INC    |\n",
       "| BURGERFI INTERNATIONAL INC   |\n",
       "| BIGLARI HOLDINGS INC         |\n",
       "| BJ'S RESTAURANTS INC         |\n",
       "| BLOOMIN' BRANDS INC          |\n",
       "| DUTCH BROS INC               |\n",
       "| BT BRANDS INC                |\n",
       "| CHEESECAKE FACTORY INC       |\n",
       "| CRACKER BARREL OLD CTRY STOR |\n",
       "| CHUY'S HOLDINGS INC          |\n",
       "| CHIPOTLE MEXICAN GRILL INC   |\n",
       "| CANNAE HOLDINGS INC          |\n",
       "| DENNYS CORP                  |\n",
       "| DUNKIN' BRANDS GROUP INC     |\n",
       "| DOMINO'S PIZZA INC           |\n",
       "| DARDEN RESTAURANTS INC       |\n",
       "| BRINKER INTL INC             |\n",
       "| FAT BRANDS INC               |\n",
       "| FIESTA RESTAURANT GROUP INC  |\n",
       "| FIRST WATCH RESTAURA GRO INC |\n",
       "| GRANITE CITY FOOD &amp; BREWERY  |\n",
       "| GOOD TIMES RESTAURANTS INC   |\n",
       "| JACK IN THE BOX INC          |\n",
       "| J. ALEXANDER'S HOLDINGS INC  |\n",
       "| KURA SUSHI USA INC           |\n",
       "| EL POLLO LOCO HOLDINGS INC   |\n",
       "| LUBYS INC                    |\n",
       "| MCDONALD'S CORP              |\n",
       "| NOODLES &amp; CO                 |\n",
       "| POTBELLY CORP                |\n",
       "| PORTILLO'S INC               |\n",
       "| PAPA JOHNS INTERNATIONAL INC |\n",
       "| RESTAURANT BRANDS INTL INC   |\n",
       "| REBORN COFFEE INC            |\n",
       "| RED ROBIN GOURMET BURGERS    |\n",
       "| RUTHS HOSPITALITY GROUP INC  |\n",
       "| STARBUCKS CORP               |\n",
       "| SADOT GROUP INC              |\n",
       "| SWEETGREEN INC               |\n",
       "| SHAKE SHACK INC              |\n",
       "| ONE GP HOSPITALITY (THE)     |\n",
       "| DEL TACO RESTAURANTS INC     |\n",
       "| CARROLS RESTAURANT GROUP INC |\n",
       "| TH INTERNATIONAL LIMITED     |\n",
       "| TEXAS ROADHOUSE INC          |\n",
       "| WENDY'S CO                   |\n",
       "| WINGSTOP INC                 |\n",
       "| YOSHIHARU GLOBAL CO          |\n",
       "| YUM BRANDS INC               |\n",
       "| YUM CHINA HOLDINGS INC       |\n",
       "\n"
      ],
      "text/plain": [
       "   conm                        \n",
       "1  ARCOS DORADOS HOLDINGS INC  \n",
       "2  ARK RESTAURANTS CORP        \n",
       "3  ARAMARK                     \n",
       "4  BBQ HOLDINGS INC            \n",
       "5  FLANIGANS ENTERPRISES INC   \n",
       "6  BURGERFI INTERNATIONAL INC  \n",
       "7  BIGLARI HOLDINGS INC        \n",
       "8  BJ'S RESTAURANTS INC        \n",
       "9  BLOOMIN' BRANDS INC         \n",
       "10 DUTCH BROS INC              \n",
       "11 BT BRANDS INC               \n",
       "12 CHEESECAKE FACTORY INC      \n",
       "13 CRACKER BARREL OLD CTRY STOR\n",
       "14 CHUY'S HOLDINGS INC         \n",
       "15 CHIPOTLE MEXICAN GRILL INC  \n",
       "16 CANNAE HOLDINGS INC         \n",
       "17 DENNYS CORP                 \n",
       "18 DUNKIN' BRANDS GROUP INC    \n",
       "19 DOMINO'S PIZZA INC          \n",
       "20 DARDEN RESTAURANTS INC      \n",
       "21 BRINKER INTL INC            \n",
       "22 FAT BRANDS INC              \n",
       "23 FIESTA RESTAURANT GROUP INC \n",
       "24 FIRST WATCH RESTAURA GRO INC\n",
       "25 GRANITE CITY FOOD & BREWERY \n",
       "26 GOOD TIMES RESTAURANTS INC  \n",
       "27 JACK IN THE BOX INC         \n",
       "28 J. ALEXANDER'S HOLDINGS INC \n",
       "29 KURA SUSHI USA INC          \n",
       "30 EL POLLO LOCO HOLDINGS INC  \n",
       "31 LUBYS INC                   \n",
       "32 MCDONALD'S CORP             \n",
       "33 NOODLES & CO                \n",
       "34 POTBELLY CORP               \n",
       "35 PORTILLO'S INC              \n",
       "36 PAPA JOHNS INTERNATIONAL INC\n",
       "37 RESTAURANT BRANDS INTL INC  \n",
       "38 REBORN COFFEE INC           \n",
       "39 RED ROBIN GOURMET BURGERS   \n",
       "40 RUTHS HOSPITALITY GROUP INC \n",
       "41 STARBUCKS CORP              \n",
       "42 SADOT GROUP INC             \n",
       "43 SWEETGREEN INC              \n",
       "44 SHAKE SHACK INC             \n",
       "45 ONE GP HOSPITALITY (THE)    \n",
       "46 DEL TACO RESTAURANTS INC    \n",
       "47 CARROLS RESTAURANT GROUP INC\n",
       "48 TH INTERNATIONAL LIMITED    \n",
       "49 TEXAS ROADHOUSE INC         \n",
       "50 WENDY'S CO                  \n",
       "51 WINGSTOP INC                \n",
       "52 YOSHIHARU GLOBAL CO         \n",
       "53 YUM BRANDS INC              \n",
       "54 YUM CHINA HOLDINGS INC      "
      ]
     },
     "metadata": {},
     "output_type": "display_data"
    }
   ],
   "source": [
    "distinct(df, conm)"
   ]
  },
  {
   "cell_type": "code",
   "execution_count": 152,
   "id": "49ea9ab7",
   "metadata": {
    "vscode": {
     "languageId": "r"
    }
   },
   "outputs": [
    {
     "data": {
      "text/html": [
       "<table class=\"dataframe\">\n",
       "<caption>A data.frame: 6 × 12</caption>\n",
       "<thead>\n",
       "\t<tr><th></th><th scope=col>GVKEY</th><th scope=col>iid</th><th scope=col>datadate</th><th scope=col>tic</th><th scope=col>conm</th><th scope=col>cshtrd</th><th scope=col>prccd</th><th scope=col>prchd</th><th scope=col>prcld</th><th scope=col>prcod</th><th scope=col>exchg</th><th scope=col>sic</th></tr>\n",
       "\t<tr><th></th><th scope=col>&lt;int&gt;</th><th scope=col>&lt;int&gt;</th><th scope=col>&lt;chr&gt;</th><th scope=col>&lt;chr&gt;</th><th scope=col>&lt;chr&gt;</th><th scope=col>&lt;int&gt;</th><th scope=col>&lt;dbl&gt;</th><th scope=col>&lt;dbl&gt;</th><th scope=col>&lt;dbl&gt;</th><th scope=col>&lt;dbl&gt;</th><th scope=col>&lt;int&gt;</th><th scope=col>&lt;int&gt;</th></tr>\n",
       "</thead>\n",
       "<tbody>\n",
       "\t<tr><th scope=row>1</th><td>25434</td><td>1</td><td>01/09/2020</td><td>SBUX</td><td>STARBUCKS CORP</td><td> 8164620</td><td>86.05</td><td>86.0900</td><td>84.23</td><td>84.700</td><td>14</td><td>5812</td></tr>\n",
       "\t<tr><th scope=row>2</th><td>25434</td><td>1</td><td>02/09/2020</td><td>SBUX</td><td>STARBUCKS CORP</td><td>11315380</td><td>88.35</td><td>88.7500</td><td>86.29</td><td>86.505</td><td>14</td><td>5812</td></tr>\n",
       "\t<tr><th scope=row>3</th><td>25434</td><td>1</td><td>03/09/2020</td><td>SBUX</td><td>STARBUCKS CORP</td><td>11014390</td><td>86.48</td><td>88.9800</td><td>85.69</td><td>88.602</td><td>14</td><td>5812</td></tr>\n",
       "\t<tr><th scope=row>4</th><td>25434</td><td>1</td><td>04/09/2020</td><td>SBUX</td><td>STARBUCKS CORP</td><td>10291270</td><td>86.27</td><td>87.7800</td><td>85.31</td><td>87.095</td><td>14</td><td>5812</td></tr>\n",
       "\t<tr><th scope=row>5</th><td>25434</td><td>1</td><td>08/09/2020</td><td>SBUX</td><td>STARBUCKS CORP</td><td>11075800</td><td>85.41</td><td>87.5834</td><td>84.77</td><td>85.270</td><td>14</td><td>5812</td></tr>\n",
       "\t<tr><th scope=row>6</th><td>25434</td><td>1</td><td>09/09/2020</td><td>SBUX</td><td>STARBUCKS CORP</td><td> 6925503</td><td>85.86</td><td>86.8270</td><td>84.46</td><td>85.934</td><td>14</td><td>5812</td></tr>\n",
       "</tbody>\n",
       "</table>\n"
      ],
      "text/latex": [
       "A data.frame: 6 × 12\n",
       "\\begin{tabular}{r|llllllllllll}\n",
       "  & GVKEY & iid & datadate & tic & conm & cshtrd & prccd & prchd & prcld & prcod & exchg & sic\\\\\n",
       "  & <int> & <int> & <chr> & <chr> & <chr> & <int> & <dbl> & <dbl> & <dbl> & <dbl> & <int> & <int>\\\\\n",
       "\\hline\n",
       "\t1 & 25434 & 1 & 01/09/2020 & SBUX & STARBUCKS CORP &  8164620 & 86.05 & 86.0900 & 84.23 & 84.700 & 14 & 5812\\\\\n",
       "\t2 & 25434 & 1 & 02/09/2020 & SBUX & STARBUCKS CORP & 11315380 & 88.35 & 88.7500 & 86.29 & 86.505 & 14 & 5812\\\\\n",
       "\t3 & 25434 & 1 & 03/09/2020 & SBUX & STARBUCKS CORP & 11014390 & 86.48 & 88.9800 & 85.69 & 88.602 & 14 & 5812\\\\\n",
       "\t4 & 25434 & 1 & 04/09/2020 & SBUX & STARBUCKS CORP & 10291270 & 86.27 & 87.7800 & 85.31 & 87.095 & 14 & 5812\\\\\n",
       "\t5 & 25434 & 1 & 08/09/2020 & SBUX & STARBUCKS CORP & 11075800 & 85.41 & 87.5834 & 84.77 & 85.270 & 14 & 5812\\\\\n",
       "\t6 & 25434 & 1 & 09/09/2020 & SBUX & STARBUCKS CORP &  6925503 & 85.86 & 86.8270 & 84.46 & 85.934 & 14 & 5812\\\\\n",
       "\\end{tabular}\n"
      ],
      "text/markdown": [
       "\n",
       "A data.frame: 6 × 12\n",
       "\n",
       "| <!--/--> | GVKEY &lt;int&gt; | iid &lt;int&gt; | datadate &lt;chr&gt; | tic &lt;chr&gt; | conm &lt;chr&gt; | cshtrd &lt;int&gt; | prccd &lt;dbl&gt; | prchd &lt;dbl&gt; | prcld &lt;dbl&gt; | prcod &lt;dbl&gt; | exchg &lt;int&gt; | sic &lt;int&gt; |\n",
       "|---|---|---|---|---|---|---|---|---|---|---|---|---|\n",
       "| 1 | 25434 | 1 | 01/09/2020 | SBUX | STARBUCKS CORP |  8164620 | 86.05 | 86.0900 | 84.23 | 84.700 | 14 | 5812 |\n",
       "| 2 | 25434 | 1 | 02/09/2020 | SBUX | STARBUCKS CORP | 11315380 | 88.35 | 88.7500 | 86.29 | 86.505 | 14 | 5812 |\n",
       "| 3 | 25434 | 1 | 03/09/2020 | SBUX | STARBUCKS CORP | 11014390 | 86.48 | 88.9800 | 85.69 | 88.602 | 14 | 5812 |\n",
       "| 4 | 25434 | 1 | 04/09/2020 | SBUX | STARBUCKS CORP | 10291270 | 86.27 | 87.7800 | 85.31 | 87.095 | 14 | 5812 |\n",
       "| 5 | 25434 | 1 | 08/09/2020 | SBUX | STARBUCKS CORP | 11075800 | 85.41 | 87.5834 | 84.77 | 85.270 | 14 | 5812 |\n",
       "| 6 | 25434 | 1 | 09/09/2020 | SBUX | STARBUCKS CORP |  6925503 | 85.86 | 86.8270 | 84.46 | 85.934 | 14 | 5812 |\n",
       "\n"
      ],
      "text/plain": [
       "  GVKEY iid datadate   tic  conm           cshtrd   prccd prchd   prcld prcod \n",
       "1 25434 1   01/09/2020 SBUX STARBUCKS CORP  8164620 86.05 86.0900 84.23 84.700\n",
       "2 25434 1   02/09/2020 SBUX STARBUCKS CORP 11315380 88.35 88.7500 86.29 86.505\n",
       "3 25434 1   03/09/2020 SBUX STARBUCKS CORP 11014390 86.48 88.9800 85.69 88.602\n",
       "4 25434 1   04/09/2020 SBUX STARBUCKS CORP 10291270 86.27 87.7800 85.31 87.095\n",
       "5 25434 1   08/09/2020 SBUX STARBUCKS CORP 11075800 85.41 87.5834 84.77 85.270\n",
       "6 25434 1   09/09/2020 SBUX STARBUCKS CORP  6925503 85.86 86.8270 84.46 85.934\n",
       "  exchg sic \n",
       "1 14    5812\n",
       "2 14    5812\n",
       "3 14    5812\n",
       "4 14    5812\n",
       "5 14    5812\n",
       "6 14    5812"
      ]
     },
     "metadata": {},
     "output_type": "display_data"
    }
   ],
   "source": [
    "sbux = df %>% filter(conm == \"STARBUCKS CORP\")\n",
    "head(sbux)"
   ]
  },
  {
   "cell_type": "code",
   "execution_count": 153,
   "id": "42269f25",
   "metadata": {
    "vscode": {
     "languageId": "r"
    }
   },
   "outputs": [
    {
     "data": {
      "text/html": [
       "<table class=\"dataframe\">\n",
       "<caption>A data.frame: 6 × 17</caption>\n",
       "<thead>\n",
       "\t<tr><th></th><th scope=col>GVKEY</th><th scope=col>iid</th><th scope=col>datadate</th><th scope=col>tic</th><th scope=col>conm</th><th scope=col>cshtrd</th><th scope=col>prccd</th><th scope=col>prchd</th><th scope=col>prcld</th><th scope=col>prcod</th><th scope=col>exchg</th><th scope=col>sic</th><th scope=col>daily_return</th><th scope=col>ten_month_momentum</th><th scope=col>daily_range</th><th scope=col>mfv</th><th scope=col>2</th></tr>\n",
       "\t<tr><th></th><th scope=col>&lt;int&gt;</th><th scope=col>&lt;int&gt;</th><th scope=col>&lt;chr&gt;</th><th scope=col>&lt;chr&gt;</th><th scope=col>&lt;chr&gt;</th><th scope=col>&lt;int&gt;</th><th scope=col>&lt;dbl&gt;</th><th scope=col>&lt;dbl&gt;</th><th scope=col>&lt;dbl&gt;</th><th scope=col>&lt;dbl&gt;</th><th scope=col>&lt;int&gt;</th><th scope=col>&lt;int&gt;</th><th scope=col>&lt;dbl&gt;</th><th scope=col>&lt;dbl&gt;</th><th scope=col>&lt;dbl&gt;</th><th scope=col>&lt;dbl&gt;</th><th scope=col>&lt;dbl&gt;</th></tr>\n",
       "</thead>\n",
       "<tbody>\n",
       "\t<tr><th scope=row>1</th><td>25434</td><td>1</td><td>01/09/2020</td><td>SBUX</td><td>STARBUCKS CORP</td><td> 8164620</td><td>86.05</td><td>86.0900</td><td>84.23</td><td>84.700</td><td>14</td><td>5812</td><td>   NA</td><td>NA</td><td>1.86</td><td> 7813454</td><td>2</td></tr>\n",
       "\t<tr><th scope=row>2</th><td>25434</td><td>1</td><td>02/09/2020</td><td>SBUX</td><td>STARBUCKS CORP</td><td>11315380</td><td>88.35</td><td>88.7500</td><td>86.29</td><td>86.505</td><td>14</td><td>5812</td><td> 2.67</td><td>NA</td><td>2.46</td><td> 7635582</td><td>2</td></tr>\n",
       "\t<tr><th scope=row>3</th><td>25434</td><td>1</td><td>03/09/2020</td><td>SBUX</td><td>STARBUCKS CORP</td><td>11014390</td><td>86.48</td><td>88.9800</td><td>85.69</td><td>88.602</td><td>14</td><td>5812</td><td>-2.12</td><td>NA</td><td>3.29</td><td>-5724805</td><td>2</td></tr>\n",
       "\t<tr><th scope=row>4</th><td>25434</td><td>1</td><td>04/09/2020</td><td>SBUX</td><td>STARBUCKS CORP</td><td>10291270</td><td>86.27</td><td>87.7800</td><td>85.31</td><td>87.095</td><td>14</td><td>5812</td><td>-0.24</td><td>NA</td><td>2.47</td><td>-2291578</td><td>2</td></tr>\n",
       "\t<tr><th scope=row>5</th><td>25434</td><td>1</td><td>08/09/2020</td><td>SBUX</td><td>STARBUCKS CORP</td><td>11075800</td><td>85.41</td><td>87.5834</td><td>84.77</td><td>85.270</td><td>14</td><td>5812</td><td>-1.00</td><td>NA</td><td>2.81</td><td>-6043997</td><td>2</td></tr>\n",
       "\t<tr><th scope=row>6</th><td>25434</td><td>1</td><td>09/09/2020</td><td>SBUX</td><td>STARBUCKS CORP</td><td> 6925503</td><td>85.86</td><td>86.8270</td><td>84.46</td><td>85.934</td><td>14</td><td>5812</td><td> 0.53</td><td>NA</td><td>2.37</td><td> 1265292</td><td>2</td></tr>\n",
       "</tbody>\n",
       "</table>\n"
      ],
      "text/latex": [
       "A data.frame: 6 × 17\n",
       "\\begin{tabular}{r|lllllllllllllllll}\n",
       "  & GVKEY & iid & datadate & tic & conm & cshtrd & prccd & prchd & prcld & prcod & exchg & sic & daily\\_return & ten\\_month\\_momentum & daily\\_range & mfv & 2\\\\\n",
       "  & <int> & <int> & <chr> & <chr> & <chr> & <int> & <dbl> & <dbl> & <dbl> & <dbl> & <int> & <int> & <dbl> & <dbl> & <dbl> & <dbl> & <dbl>\\\\\n",
       "\\hline\n",
       "\t1 & 25434 & 1 & 01/09/2020 & SBUX & STARBUCKS CORP &  8164620 & 86.05 & 86.0900 & 84.23 & 84.700 & 14 & 5812 &    NA & NA & 1.86 &  7813454 & 2\\\\\n",
       "\t2 & 25434 & 1 & 02/09/2020 & SBUX & STARBUCKS CORP & 11315380 & 88.35 & 88.7500 & 86.29 & 86.505 & 14 & 5812 &  2.67 & NA & 2.46 &  7635582 & 2\\\\\n",
       "\t3 & 25434 & 1 & 03/09/2020 & SBUX & STARBUCKS CORP & 11014390 & 86.48 & 88.9800 & 85.69 & 88.602 & 14 & 5812 & -2.12 & NA & 3.29 & -5724805 & 2\\\\\n",
       "\t4 & 25434 & 1 & 04/09/2020 & SBUX & STARBUCKS CORP & 10291270 & 86.27 & 87.7800 & 85.31 & 87.095 & 14 & 5812 & -0.24 & NA & 2.47 & -2291578 & 2\\\\\n",
       "\t5 & 25434 & 1 & 08/09/2020 & SBUX & STARBUCKS CORP & 11075800 & 85.41 & 87.5834 & 84.77 & 85.270 & 14 & 5812 & -1.00 & NA & 2.81 & -6043997 & 2\\\\\n",
       "\t6 & 25434 & 1 & 09/09/2020 & SBUX & STARBUCKS CORP &  6925503 & 85.86 & 86.8270 & 84.46 & 85.934 & 14 & 5812 &  0.53 & NA & 2.37 &  1265292 & 2\\\\\n",
       "\\end{tabular}\n"
      ],
      "text/markdown": [
       "\n",
       "A data.frame: 6 × 17\n",
       "\n",
       "| <!--/--> | GVKEY &lt;int&gt; | iid &lt;int&gt; | datadate &lt;chr&gt; | tic &lt;chr&gt; | conm &lt;chr&gt; | cshtrd &lt;int&gt; | prccd &lt;dbl&gt; | prchd &lt;dbl&gt; | prcld &lt;dbl&gt; | prcod &lt;dbl&gt; | exchg &lt;int&gt; | sic &lt;int&gt; | daily_return &lt;dbl&gt; | ten_month_momentum &lt;dbl&gt; | daily_range &lt;dbl&gt; | mfv &lt;dbl&gt; | 2 &lt;dbl&gt; |\n",
       "|---|---|---|---|---|---|---|---|---|---|---|---|---|---|---|---|---|---|\n",
       "| 1 | 25434 | 1 | 01/09/2020 | SBUX | STARBUCKS CORP |  8164620 | 86.05 | 86.0900 | 84.23 | 84.700 | 14 | 5812 |    NA | NA | 1.86 |  7813454 | 2 |\n",
       "| 2 | 25434 | 1 | 02/09/2020 | SBUX | STARBUCKS CORP | 11315380 | 88.35 | 88.7500 | 86.29 | 86.505 | 14 | 5812 |  2.67 | NA | 2.46 |  7635582 | 2 |\n",
       "| 3 | 25434 | 1 | 03/09/2020 | SBUX | STARBUCKS CORP | 11014390 | 86.48 | 88.9800 | 85.69 | 88.602 | 14 | 5812 | -2.12 | NA | 3.29 | -5724805 | 2 |\n",
       "| 4 | 25434 | 1 | 04/09/2020 | SBUX | STARBUCKS CORP | 10291270 | 86.27 | 87.7800 | 85.31 | 87.095 | 14 | 5812 | -0.24 | NA | 2.47 | -2291578 | 2 |\n",
       "| 5 | 25434 | 1 | 08/09/2020 | SBUX | STARBUCKS CORP | 11075800 | 85.41 | 87.5834 | 84.77 | 85.270 | 14 | 5812 | -1.00 | NA | 2.81 | -6043997 | 2 |\n",
       "| 6 | 25434 | 1 | 09/09/2020 | SBUX | STARBUCKS CORP |  6925503 | 85.86 | 86.8270 | 84.46 | 85.934 | 14 | 5812 |  0.53 | NA | 2.37 |  1265292 | 2 |\n",
       "\n"
      ],
      "text/plain": [
       "  GVKEY iid datadate   tic  conm           cshtrd   prccd prchd   prcld prcod \n",
       "1 25434 1   01/09/2020 SBUX STARBUCKS CORP  8164620 86.05 86.0900 84.23 84.700\n",
       "2 25434 1   02/09/2020 SBUX STARBUCKS CORP 11315380 88.35 88.7500 86.29 86.505\n",
       "3 25434 1   03/09/2020 SBUX STARBUCKS CORP 11014390 86.48 88.9800 85.69 88.602\n",
       "4 25434 1   04/09/2020 SBUX STARBUCKS CORP 10291270 86.27 87.7800 85.31 87.095\n",
       "5 25434 1   08/09/2020 SBUX STARBUCKS CORP 11075800 85.41 87.5834 84.77 85.270\n",
       "6 25434 1   09/09/2020 SBUX STARBUCKS CORP  6925503 85.86 86.8270 84.46 85.934\n",
       "  exchg sic  daily_return ten_month_momentum daily_range mfv      2\n",
       "1 14    5812    NA        NA                 1.86         7813454 2\n",
       "2 14    5812  2.67        NA                 2.46         7635582 2\n",
       "3 14    5812 -2.12        NA                 3.29        -5724805 2\n",
       "4 14    5812 -0.24        NA                 2.47        -2291578 2\n",
       "5 14    5812 -1.00        NA                 2.81        -6043997 2\n",
       "6 14    5812  0.53        NA                 2.37         1265292 2"
      ]
     },
     "metadata": {},
     "output_type": "display_data"
    }
   ],
   "source": [
    "# Daily Return\n",
    "sbux <- mutate(sbux, daily_return = round((prccd - lag(prccd, 1))/lag(prccd,1)*100, 2))\n",
    "# 10-Day momentum indicator\n",
    "sbux <- mutate(sbux, ten_month_momentum = round(prccd - lag(prccd, 10), 2))\n",
    "# Daily Range\n",
    "sbux <- mutate(sbux, daily_range = round(prchd - prcld, 2))\n",
    "#  Money Flow Volume Indicator (MFV)\n",
    "sbux <- mutate(sbux, mfv = round((((prccd - prcld)-(prchd - prccd))/(daily_range))*cshtrd),2)\n",
    "\n",
    "head(sbux)"
   ]
  },
  {
   "cell_type": "code",
   "execution_count": 154,
   "id": "0e2a8c20",
   "metadata": {
    "vscode": {
     "languageId": "r"
    }
   },
   "outputs": [
    {
     "data": {
      "text/html": [
       "<table class=\"dataframe\">\n",
       "<caption>A data.frame: 6 × 17</caption>\n",
       "<thead>\n",
       "\t<tr><th></th><th scope=col>GVKEY</th><th scope=col>iid</th><th scope=col>datadate</th><th scope=col>tic</th><th scope=col>conm</th><th scope=col>cshtrd</th><th scope=col>prccd</th><th scope=col>prchd</th><th scope=col>prcld</th><th scope=col>prcod</th><th scope=col>exchg</th><th scope=col>sic</th><th scope=col>daily_return</th><th scope=col>ten_month_momentum</th><th scope=col>daily_range</th><th scope=col>mfv</th><th scope=col>2</th></tr>\n",
       "\t<tr><th></th><th scope=col>&lt;int&gt;</th><th scope=col>&lt;int&gt;</th><th scope=col>&lt;date&gt;</th><th scope=col>&lt;chr&gt;</th><th scope=col>&lt;chr&gt;</th><th scope=col>&lt;int&gt;</th><th scope=col>&lt;dbl&gt;</th><th scope=col>&lt;dbl&gt;</th><th scope=col>&lt;dbl&gt;</th><th scope=col>&lt;dbl&gt;</th><th scope=col>&lt;int&gt;</th><th scope=col>&lt;int&gt;</th><th scope=col>&lt;dbl&gt;</th><th scope=col>&lt;dbl&gt;</th><th scope=col>&lt;dbl&gt;</th><th scope=col>&lt;dbl&gt;</th><th scope=col>&lt;dbl&gt;</th></tr>\n",
       "</thead>\n",
       "<tbody>\n",
       "\t<tr><th scope=row>1</th><td>25434</td><td>1</td><td>2020-09-01</td><td>SBUX</td><td>STARBUCKS CORP</td><td> 8164620</td><td>86.05</td><td>86.0900</td><td>84.23</td><td>84.700</td><td>14</td><td>5812</td><td>   NA</td><td>NA</td><td>1.86</td><td> 7813454</td><td>2</td></tr>\n",
       "\t<tr><th scope=row>2</th><td>25434</td><td>1</td><td>2020-09-02</td><td>SBUX</td><td>STARBUCKS CORP</td><td>11315380</td><td>88.35</td><td>88.7500</td><td>86.29</td><td>86.505</td><td>14</td><td>5812</td><td> 2.67</td><td>NA</td><td>2.46</td><td> 7635582</td><td>2</td></tr>\n",
       "\t<tr><th scope=row>3</th><td>25434</td><td>1</td><td>2020-09-03</td><td>SBUX</td><td>STARBUCKS CORP</td><td>11014390</td><td>86.48</td><td>88.9800</td><td>85.69</td><td>88.602</td><td>14</td><td>5812</td><td>-2.12</td><td>NA</td><td>3.29</td><td>-5724805</td><td>2</td></tr>\n",
       "\t<tr><th scope=row>4</th><td>25434</td><td>1</td><td>2020-09-04</td><td>SBUX</td><td>STARBUCKS CORP</td><td>10291270</td><td>86.27</td><td>87.7800</td><td>85.31</td><td>87.095</td><td>14</td><td>5812</td><td>-0.24</td><td>NA</td><td>2.47</td><td>-2291578</td><td>2</td></tr>\n",
       "\t<tr><th scope=row>5</th><td>25434</td><td>1</td><td>2020-09-08</td><td>SBUX</td><td>STARBUCKS CORP</td><td>11075800</td><td>85.41</td><td>87.5834</td><td>84.77</td><td>85.270</td><td>14</td><td>5812</td><td>-1.00</td><td>NA</td><td>2.81</td><td>-6043997</td><td>2</td></tr>\n",
       "\t<tr><th scope=row>6</th><td>25434</td><td>1</td><td>2020-09-09</td><td>SBUX</td><td>STARBUCKS CORP</td><td> 6925503</td><td>85.86</td><td>86.8270</td><td>84.46</td><td>85.934</td><td>14</td><td>5812</td><td> 0.53</td><td>NA</td><td>2.37</td><td> 1265292</td><td>2</td></tr>\n",
       "</tbody>\n",
       "</table>\n"
      ],
      "text/latex": [
       "A data.frame: 6 × 17\n",
       "\\begin{tabular}{r|lllllllllllllllll}\n",
       "  & GVKEY & iid & datadate & tic & conm & cshtrd & prccd & prchd & prcld & prcod & exchg & sic & daily\\_return & ten\\_month\\_momentum & daily\\_range & mfv & 2\\\\\n",
       "  & <int> & <int> & <date> & <chr> & <chr> & <int> & <dbl> & <dbl> & <dbl> & <dbl> & <int> & <int> & <dbl> & <dbl> & <dbl> & <dbl> & <dbl>\\\\\n",
       "\\hline\n",
       "\t1 & 25434 & 1 & 2020-09-01 & SBUX & STARBUCKS CORP &  8164620 & 86.05 & 86.0900 & 84.23 & 84.700 & 14 & 5812 &    NA & NA & 1.86 &  7813454 & 2\\\\\n",
       "\t2 & 25434 & 1 & 2020-09-02 & SBUX & STARBUCKS CORP & 11315380 & 88.35 & 88.7500 & 86.29 & 86.505 & 14 & 5812 &  2.67 & NA & 2.46 &  7635582 & 2\\\\\n",
       "\t3 & 25434 & 1 & 2020-09-03 & SBUX & STARBUCKS CORP & 11014390 & 86.48 & 88.9800 & 85.69 & 88.602 & 14 & 5812 & -2.12 & NA & 3.29 & -5724805 & 2\\\\\n",
       "\t4 & 25434 & 1 & 2020-09-04 & SBUX & STARBUCKS CORP & 10291270 & 86.27 & 87.7800 & 85.31 & 87.095 & 14 & 5812 & -0.24 & NA & 2.47 & -2291578 & 2\\\\\n",
       "\t5 & 25434 & 1 & 2020-09-08 & SBUX & STARBUCKS CORP & 11075800 & 85.41 & 87.5834 & 84.77 & 85.270 & 14 & 5812 & -1.00 & NA & 2.81 & -6043997 & 2\\\\\n",
       "\t6 & 25434 & 1 & 2020-09-09 & SBUX & STARBUCKS CORP &  6925503 & 85.86 & 86.8270 & 84.46 & 85.934 & 14 & 5812 &  0.53 & NA & 2.37 &  1265292 & 2\\\\\n",
       "\\end{tabular}\n"
      ],
      "text/markdown": [
       "\n",
       "A data.frame: 6 × 17\n",
       "\n",
       "| <!--/--> | GVKEY &lt;int&gt; | iid &lt;int&gt; | datadate &lt;date&gt; | tic &lt;chr&gt; | conm &lt;chr&gt; | cshtrd &lt;int&gt; | prccd &lt;dbl&gt; | prchd &lt;dbl&gt; | prcld &lt;dbl&gt; | prcod &lt;dbl&gt; | exchg &lt;int&gt; | sic &lt;int&gt; | daily_return &lt;dbl&gt; | ten_month_momentum &lt;dbl&gt; | daily_range &lt;dbl&gt; | mfv &lt;dbl&gt; | 2 &lt;dbl&gt; |\n",
       "|---|---|---|---|---|---|---|---|---|---|---|---|---|---|---|---|---|---|\n",
       "| 1 | 25434 | 1 | 2020-09-01 | SBUX | STARBUCKS CORP |  8164620 | 86.05 | 86.0900 | 84.23 | 84.700 | 14 | 5812 |    NA | NA | 1.86 |  7813454 | 2 |\n",
       "| 2 | 25434 | 1 | 2020-09-02 | SBUX | STARBUCKS CORP | 11315380 | 88.35 | 88.7500 | 86.29 | 86.505 | 14 | 5812 |  2.67 | NA | 2.46 |  7635582 | 2 |\n",
       "| 3 | 25434 | 1 | 2020-09-03 | SBUX | STARBUCKS CORP | 11014390 | 86.48 | 88.9800 | 85.69 | 88.602 | 14 | 5812 | -2.12 | NA | 3.29 | -5724805 | 2 |\n",
       "| 4 | 25434 | 1 | 2020-09-04 | SBUX | STARBUCKS CORP | 10291270 | 86.27 | 87.7800 | 85.31 | 87.095 | 14 | 5812 | -0.24 | NA | 2.47 | -2291578 | 2 |\n",
       "| 5 | 25434 | 1 | 2020-09-08 | SBUX | STARBUCKS CORP | 11075800 | 85.41 | 87.5834 | 84.77 | 85.270 | 14 | 5812 | -1.00 | NA | 2.81 | -6043997 | 2 |\n",
       "| 6 | 25434 | 1 | 2020-09-09 | SBUX | STARBUCKS CORP |  6925503 | 85.86 | 86.8270 | 84.46 | 85.934 | 14 | 5812 |  0.53 | NA | 2.37 |  1265292 | 2 |\n",
       "\n"
      ],
      "text/plain": [
       "  GVKEY iid datadate   tic  conm           cshtrd   prccd prchd   prcld prcod \n",
       "1 25434 1   2020-09-01 SBUX STARBUCKS CORP  8164620 86.05 86.0900 84.23 84.700\n",
       "2 25434 1   2020-09-02 SBUX STARBUCKS CORP 11315380 88.35 88.7500 86.29 86.505\n",
       "3 25434 1   2020-09-03 SBUX STARBUCKS CORP 11014390 86.48 88.9800 85.69 88.602\n",
       "4 25434 1   2020-09-04 SBUX STARBUCKS CORP 10291270 86.27 87.7800 85.31 87.095\n",
       "5 25434 1   2020-09-08 SBUX STARBUCKS CORP 11075800 85.41 87.5834 84.77 85.270\n",
       "6 25434 1   2020-09-09 SBUX STARBUCKS CORP  6925503 85.86 86.8270 84.46 85.934\n",
       "  exchg sic  daily_return ten_month_momentum daily_range mfv      2\n",
       "1 14    5812    NA        NA                 1.86         7813454 2\n",
       "2 14    5812  2.67        NA                 2.46         7635582 2\n",
       "3 14    5812 -2.12        NA                 3.29        -5724805 2\n",
       "4 14    5812 -0.24        NA                 2.47        -2291578 2\n",
       "5 14    5812 -1.00        NA                 2.81        -6043997 2\n",
       "6 14    5812  0.53        NA                 2.37         1265292 2"
      ]
     },
     "metadata": {},
     "output_type": "display_data"
    }
   ],
   "source": [
    "# Time-series set the data\n",
    "sbux$datadate <- as.Date(as.character(sbux$datadate), format=\"%d/%m/%Y\")\n",
    "head(sbux)"
   ]
  },
  {
   "cell_type": "code",
   "execution_count": 155,
   "id": "186ea1a8",
   "metadata": {
    "vscode": {
     "languageId": "r"
    }
   },
   "outputs": [
    {
     "name": "stdout",
     "output_type": "stream",
     "text": [
      "\n",
      "The downloaded binary packages are in\n",
      "\t/var/folders/by/g895l7l128j9y19qqn66xcxh0000gn/T//RtmpYXtjbC/downloaded_packages\n"
     ]
    }
   ],
   "source": [
    "install.packages(\"lubridate\")\n",
    "library(lubridate)"
   ]
  },
  {
   "cell_type": "code",
   "execution_count": 156,
   "id": "530f76d0",
   "metadata": {
    "vscode": {
     "languageId": "r"
    }
   },
   "outputs": [
    {
     "data": {
      "text/html": [
       "<table class=\"dataframe\">\n",
       "<caption>A data.frame: 6 × 19</caption>\n",
       "<thead>\n",
       "\t<tr><th></th><th scope=col>GVKEY</th><th scope=col>iid</th><th scope=col>datadate</th><th scope=col>tic</th><th scope=col>conm</th><th scope=col>cshtrd</th><th scope=col>prccd</th><th scope=col>prchd</th><th scope=col>prcld</th><th scope=col>prcod</th><th scope=col>exchg</th><th scope=col>sic</th><th scope=col>daily_return</th><th scope=col>ten_month_momentum</th><th scope=col>daily_range</th><th scope=col>mfv</th><th scope=col>2</th><th scope=col>month</th><th scope=col>year</th></tr>\n",
       "\t<tr><th></th><th scope=col>&lt;int&gt;</th><th scope=col>&lt;int&gt;</th><th scope=col>&lt;date&gt;</th><th scope=col>&lt;chr&gt;</th><th scope=col>&lt;chr&gt;</th><th scope=col>&lt;int&gt;</th><th scope=col>&lt;dbl&gt;</th><th scope=col>&lt;dbl&gt;</th><th scope=col>&lt;dbl&gt;</th><th scope=col>&lt;dbl&gt;</th><th scope=col>&lt;int&gt;</th><th scope=col>&lt;int&gt;</th><th scope=col>&lt;dbl&gt;</th><th scope=col>&lt;dbl&gt;</th><th scope=col>&lt;dbl&gt;</th><th scope=col>&lt;dbl&gt;</th><th scope=col>&lt;dbl&gt;</th><th scope=col>&lt;dbl&gt;</th><th scope=col>&lt;dbl&gt;</th></tr>\n",
       "</thead>\n",
       "<tbody>\n",
       "\t<tr><th scope=row>1</th><td>25434</td><td>1</td><td>2020-09-01</td><td>SBUX</td><td>STARBUCKS CORP</td><td> 8164620</td><td>86.05</td><td>86.0900</td><td>84.23</td><td>84.700</td><td>14</td><td>5812</td><td>   NA</td><td>NA</td><td>1.86</td><td> 7813454</td><td>2</td><td>9</td><td>2020</td></tr>\n",
       "\t<tr><th scope=row>2</th><td>25434</td><td>1</td><td>2020-09-02</td><td>SBUX</td><td>STARBUCKS CORP</td><td>11315380</td><td>88.35</td><td>88.7500</td><td>86.29</td><td>86.505</td><td>14</td><td>5812</td><td> 2.67</td><td>NA</td><td>2.46</td><td> 7635582</td><td>2</td><td>9</td><td>2020</td></tr>\n",
       "\t<tr><th scope=row>3</th><td>25434</td><td>1</td><td>2020-09-03</td><td>SBUX</td><td>STARBUCKS CORP</td><td>11014390</td><td>86.48</td><td>88.9800</td><td>85.69</td><td>88.602</td><td>14</td><td>5812</td><td>-2.12</td><td>NA</td><td>3.29</td><td>-5724805</td><td>2</td><td>9</td><td>2020</td></tr>\n",
       "\t<tr><th scope=row>4</th><td>25434</td><td>1</td><td>2020-09-04</td><td>SBUX</td><td>STARBUCKS CORP</td><td>10291270</td><td>86.27</td><td>87.7800</td><td>85.31</td><td>87.095</td><td>14</td><td>5812</td><td>-0.24</td><td>NA</td><td>2.47</td><td>-2291578</td><td>2</td><td>9</td><td>2020</td></tr>\n",
       "\t<tr><th scope=row>5</th><td>25434</td><td>1</td><td>2020-09-08</td><td>SBUX</td><td>STARBUCKS CORP</td><td>11075800</td><td>85.41</td><td>87.5834</td><td>84.77</td><td>85.270</td><td>14</td><td>5812</td><td>-1.00</td><td>NA</td><td>2.81</td><td>-6043997</td><td>2</td><td>9</td><td>2020</td></tr>\n",
       "\t<tr><th scope=row>6</th><td>25434</td><td>1</td><td>2020-09-09</td><td>SBUX</td><td>STARBUCKS CORP</td><td> 6925503</td><td>85.86</td><td>86.8270</td><td>84.46</td><td>85.934</td><td>14</td><td>5812</td><td> 0.53</td><td>NA</td><td>2.37</td><td> 1265292</td><td>2</td><td>9</td><td>2020</td></tr>\n",
       "</tbody>\n",
       "</table>\n"
      ],
      "text/latex": [
       "A data.frame: 6 × 19\n",
       "\\begin{tabular}{r|lllllllllllllllllll}\n",
       "  & GVKEY & iid & datadate & tic & conm & cshtrd & prccd & prchd & prcld & prcod & exchg & sic & daily\\_return & ten\\_month\\_momentum & daily\\_range & mfv & 2 & month & year\\\\\n",
       "  & <int> & <int> & <date> & <chr> & <chr> & <int> & <dbl> & <dbl> & <dbl> & <dbl> & <int> & <int> & <dbl> & <dbl> & <dbl> & <dbl> & <dbl> & <dbl> & <dbl>\\\\\n",
       "\\hline\n",
       "\t1 & 25434 & 1 & 2020-09-01 & SBUX & STARBUCKS CORP &  8164620 & 86.05 & 86.0900 & 84.23 & 84.700 & 14 & 5812 &    NA & NA & 1.86 &  7813454 & 2 & 9 & 2020\\\\\n",
       "\t2 & 25434 & 1 & 2020-09-02 & SBUX & STARBUCKS CORP & 11315380 & 88.35 & 88.7500 & 86.29 & 86.505 & 14 & 5812 &  2.67 & NA & 2.46 &  7635582 & 2 & 9 & 2020\\\\\n",
       "\t3 & 25434 & 1 & 2020-09-03 & SBUX & STARBUCKS CORP & 11014390 & 86.48 & 88.9800 & 85.69 & 88.602 & 14 & 5812 & -2.12 & NA & 3.29 & -5724805 & 2 & 9 & 2020\\\\\n",
       "\t4 & 25434 & 1 & 2020-09-04 & SBUX & STARBUCKS CORP & 10291270 & 86.27 & 87.7800 & 85.31 & 87.095 & 14 & 5812 & -0.24 & NA & 2.47 & -2291578 & 2 & 9 & 2020\\\\\n",
       "\t5 & 25434 & 1 & 2020-09-08 & SBUX & STARBUCKS CORP & 11075800 & 85.41 & 87.5834 & 84.77 & 85.270 & 14 & 5812 & -1.00 & NA & 2.81 & -6043997 & 2 & 9 & 2020\\\\\n",
       "\t6 & 25434 & 1 & 2020-09-09 & SBUX & STARBUCKS CORP &  6925503 & 85.86 & 86.8270 & 84.46 & 85.934 & 14 & 5812 &  0.53 & NA & 2.37 &  1265292 & 2 & 9 & 2020\\\\\n",
       "\\end{tabular}\n"
      ],
      "text/markdown": [
       "\n",
       "A data.frame: 6 × 19\n",
       "\n",
       "| <!--/--> | GVKEY &lt;int&gt; | iid &lt;int&gt; | datadate &lt;date&gt; | tic &lt;chr&gt; | conm &lt;chr&gt; | cshtrd &lt;int&gt; | prccd &lt;dbl&gt; | prchd &lt;dbl&gt; | prcld &lt;dbl&gt; | prcod &lt;dbl&gt; | exchg &lt;int&gt; | sic &lt;int&gt; | daily_return &lt;dbl&gt; | ten_month_momentum &lt;dbl&gt; | daily_range &lt;dbl&gt; | mfv &lt;dbl&gt; | 2 &lt;dbl&gt; | month &lt;dbl&gt; | year &lt;dbl&gt; |\n",
       "|---|---|---|---|---|---|---|---|---|---|---|---|---|---|---|---|---|---|---|---|\n",
       "| 1 | 25434 | 1 | 2020-09-01 | SBUX | STARBUCKS CORP |  8164620 | 86.05 | 86.0900 | 84.23 | 84.700 | 14 | 5812 |    NA | NA | 1.86 |  7813454 | 2 | 9 | 2020 |\n",
       "| 2 | 25434 | 1 | 2020-09-02 | SBUX | STARBUCKS CORP | 11315380 | 88.35 | 88.7500 | 86.29 | 86.505 | 14 | 5812 |  2.67 | NA | 2.46 |  7635582 | 2 | 9 | 2020 |\n",
       "| 3 | 25434 | 1 | 2020-09-03 | SBUX | STARBUCKS CORP | 11014390 | 86.48 | 88.9800 | 85.69 | 88.602 | 14 | 5812 | -2.12 | NA | 3.29 | -5724805 | 2 | 9 | 2020 |\n",
       "| 4 | 25434 | 1 | 2020-09-04 | SBUX | STARBUCKS CORP | 10291270 | 86.27 | 87.7800 | 85.31 | 87.095 | 14 | 5812 | -0.24 | NA | 2.47 | -2291578 | 2 | 9 | 2020 |\n",
       "| 5 | 25434 | 1 | 2020-09-08 | SBUX | STARBUCKS CORP | 11075800 | 85.41 | 87.5834 | 84.77 | 85.270 | 14 | 5812 | -1.00 | NA | 2.81 | -6043997 | 2 | 9 | 2020 |\n",
       "| 6 | 25434 | 1 | 2020-09-09 | SBUX | STARBUCKS CORP |  6925503 | 85.86 | 86.8270 | 84.46 | 85.934 | 14 | 5812 |  0.53 | NA | 2.37 |  1265292 | 2 | 9 | 2020 |\n",
       "\n"
      ],
      "text/plain": [
       "  GVKEY iid datadate   tic  conm           cshtrd   prccd prchd   prcld prcod \n",
       "1 25434 1   2020-09-01 SBUX STARBUCKS CORP  8164620 86.05 86.0900 84.23 84.700\n",
       "2 25434 1   2020-09-02 SBUX STARBUCKS CORP 11315380 88.35 88.7500 86.29 86.505\n",
       "3 25434 1   2020-09-03 SBUX STARBUCKS CORP 11014390 86.48 88.9800 85.69 88.602\n",
       "4 25434 1   2020-09-04 SBUX STARBUCKS CORP 10291270 86.27 87.7800 85.31 87.095\n",
       "5 25434 1   2020-09-08 SBUX STARBUCKS CORP 11075800 85.41 87.5834 84.77 85.270\n",
       "6 25434 1   2020-09-09 SBUX STARBUCKS CORP  6925503 85.86 86.8270 84.46 85.934\n",
       "  exchg sic  daily_return ten_month_momentum daily_range mfv      2 month year\n",
       "1 14    5812    NA        NA                 1.86         7813454 2 9     2020\n",
       "2 14    5812  2.67        NA                 2.46         7635582 2 9     2020\n",
       "3 14    5812 -2.12        NA                 3.29        -5724805 2 9     2020\n",
       "4 14    5812 -0.24        NA                 2.47        -2291578 2 9     2020\n",
       "5 14    5812 -1.00        NA                 2.81        -6043997 2 9     2020\n",
       "6 14    5812  0.53        NA                 2.37         1265292 2 9     2020"
      ]
     },
     "metadata": {},
     "output_type": "display_data"
    }
   ],
   "source": [
    "sbux <- mutate(sbux, month = month(datadate), year = year(datadate))\n",
    "head(sbux)"
   ]
  },
  {
   "cell_type": "code",
   "execution_count": 157,
   "id": "55ebb93f",
   "metadata": {
    "vscode": {
     "languageId": "r"
    }
   },
   "outputs": [
    {
     "data": {
      "text/html": [
       "<table class=\"dataframe\">\n",
       "<caption>A data.frame: 6 × 19</caption>\n",
       "<thead>\n",
       "\t<tr><th></th><th scope=col>GVKEY</th><th scope=col>iid</th><th scope=col>datadate</th><th scope=col>tic</th><th scope=col>conm</th><th scope=col>cshtrd</th><th scope=col>prccd</th><th scope=col>prchd</th><th scope=col>prcld</th><th scope=col>prcod</th><th scope=col>exchg</th><th scope=col>sic</th><th scope=col>daily_return</th><th scope=col>ten_month_momentum</th><th scope=col>daily_range</th><th scope=col>mfv</th><th scope=col>2</th><th scope=col>month</th><th scope=col>year</th></tr>\n",
       "\t<tr><th></th><th scope=col>&lt;int&gt;</th><th scope=col>&lt;int&gt;</th><th scope=col>&lt;date&gt;</th><th scope=col>&lt;chr&gt;</th><th scope=col>&lt;chr&gt;</th><th scope=col>&lt;int&gt;</th><th scope=col>&lt;dbl&gt;</th><th scope=col>&lt;dbl&gt;</th><th scope=col>&lt;dbl&gt;</th><th scope=col>&lt;dbl&gt;</th><th scope=col>&lt;int&gt;</th><th scope=col>&lt;int&gt;</th><th scope=col>&lt;dbl&gt;</th><th scope=col>&lt;dbl&gt;</th><th scope=col>&lt;dbl&gt;</th><th scope=col>&lt;dbl&gt;</th><th scope=col>&lt;dbl&gt;</th><th scope=col>&lt;dbl&gt;</th><th scope=col>&lt;dbl&gt;</th></tr>\n",
       "</thead>\n",
       "<tbody>\n",
       "\t<tr><th scope=row>1</th><td>25434</td><td>1</td><td>2023-06-01</td><td>SBUX</td><td>STARBUCKS CORP</td><td>6748459</td><td>97.52</td><td> 98.23</td><td>96.52</td><td> 97.59</td><td>14</td><td>5812</td><td>-0.12</td><td>-8.17</td><td>1.71</td><td> 1144476</td><td>2</td><td>6</td><td>2023</td></tr>\n",
       "\t<tr><th scope=row>2</th><td>25434</td><td>1</td><td>2023-06-02</td><td>SBUX</td><td>STARBUCKS CORP</td><td>6218737</td><td>99.50</td><td> 99.66</td><td>98.19</td><td> 98.31</td><td>14</td><td>5812</td><td> 2.03</td><td>-7.59</td><td>1.47</td><td> 4864998</td><td>2</td><td>6</td><td>2023</td></tr>\n",
       "\t<tr><th scope=row>3</th><td>25434</td><td>1</td><td>2023-06-05</td><td>SBUX</td><td>STARBUCKS CORP</td><td>6532773</td><td>99.93</td><td>100.87</td><td>99.50</td><td>100.04</td><td>14</td><td>5812</td><td> 0.43</td><td>-5.58</td><td>1.37</td><td>-2431908</td><td>2</td><td>6</td><td>2023</td></tr>\n",
       "\t<tr><th scope=row>4</th><td>25434</td><td>1</td><td>2023-06-06</td><td>SBUX</td><td>STARBUCKS CORP</td><td>8652959</td><td>98.22</td><td>100.33</td><td>97.53</td><td> 99.74</td><td>14</td><td>5812</td><td>-1.71</td><td>-4.68</td><td>2.80</td><td>-4388286</td><td>2</td><td>6</td><td>2023</td></tr>\n",
       "\t<tr><th scope=row>5</th><td>25434</td><td>1</td><td>2023-06-07</td><td>SBUX</td><td>STARBUCKS CORP</td><td>6283350</td><td>97.92</td><td> 98.86</td><td>97.59</td><td> 98.55</td><td>14</td><td>5812</td><td>-0.31</td><td>-2.42</td><td>1.27</td><td>-3017987</td><td>2</td><td>6</td><td>2023</td></tr>\n",
       "\t<tr><th scope=row>6</th><td>25434</td><td>1</td><td>2023-06-08</td><td>SBUX</td><td>STARBUCKS CORP</td><td>6876627</td><td>99.15</td><td> 99.18</td><td>96.92</td><td> 97.65</td><td>14</td><td>5812</td><td> 1.26</td><td>-0.46</td><td>2.26</td><td> 6694062</td><td>2</td><td>6</td><td>2023</td></tr>\n",
       "</tbody>\n",
       "</table>\n"
      ],
      "text/latex": [
       "A data.frame: 6 × 19\n",
       "\\begin{tabular}{r|lllllllllllllllllll}\n",
       "  & GVKEY & iid & datadate & tic & conm & cshtrd & prccd & prchd & prcld & prcod & exchg & sic & daily\\_return & ten\\_month\\_momentum & daily\\_range & mfv & 2 & month & year\\\\\n",
       "  & <int> & <int> & <date> & <chr> & <chr> & <int> & <dbl> & <dbl> & <dbl> & <dbl> & <int> & <int> & <dbl> & <dbl> & <dbl> & <dbl> & <dbl> & <dbl> & <dbl>\\\\\n",
       "\\hline\n",
       "\t1 & 25434 & 1 & 2023-06-01 & SBUX & STARBUCKS CORP & 6748459 & 97.52 &  98.23 & 96.52 &  97.59 & 14 & 5812 & -0.12 & -8.17 & 1.71 &  1144476 & 2 & 6 & 2023\\\\\n",
       "\t2 & 25434 & 1 & 2023-06-02 & SBUX & STARBUCKS CORP & 6218737 & 99.50 &  99.66 & 98.19 &  98.31 & 14 & 5812 &  2.03 & -7.59 & 1.47 &  4864998 & 2 & 6 & 2023\\\\\n",
       "\t3 & 25434 & 1 & 2023-06-05 & SBUX & STARBUCKS CORP & 6532773 & 99.93 & 100.87 & 99.50 & 100.04 & 14 & 5812 &  0.43 & -5.58 & 1.37 & -2431908 & 2 & 6 & 2023\\\\\n",
       "\t4 & 25434 & 1 & 2023-06-06 & SBUX & STARBUCKS CORP & 8652959 & 98.22 & 100.33 & 97.53 &  99.74 & 14 & 5812 & -1.71 & -4.68 & 2.80 & -4388286 & 2 & 6 & 2023\\\\\n",
       "\t5 & 25434 & 1 & 2023-06-07 & SBUX & STARBUCKS CORP & 6283350 & 97.92 &  98.86 & 97.59 &  98.55 & 14 & 5812 & -0.31 & -2.42 & 1.27 & -3017987 & 2 & 6 & 2023\\\\\n",
       "\t6 & 25434 & 1 & 2023-06-08 & SBUX & STARBUCKS CORP & 6876627 & 99.15 &  99.18 & 96.92 &  97.65 & 14 & 5812 &  1.26 & -0.46 & 2.26 &  6694062 & 2 & 6 & 2023\\\\\n",
       "\\end{tabular}\n"
      ],
      "text/markdown": [
       "\n",
       "A data.frame: 6 × 19\n",
       "\n",
       "| <!--/--> | GVKEY &lt;int&gt; | iid &lt;int&gt; | datadate &lt;date&gt; | tic &lt;chr&gt; | conm &lt;chr&gt; | cshtrd &lt;int&gt; | prccd &lt;dbl&gt; | prchd &lt;dbl&gt; | prcld &lt;dbl&gt; | prcod &lt;dbl&gt; | exchg &lt;int&gt; | sic &lt;int&gt; | daily_return &lt;dbl&gt; | ten_month_momentum &lt;dbl&gt; | daily_range &lt;dbl&gt; | mfv &lt;dbl&gt; | 2 &lt;dbl&gt; | month &lt;dbl&gt; | year &lt;dbl&gt; |\n",
       "|---|---|---|---|---|---|---|---|---|---|---|---|---|---|---|---|---|---|---|---|\n",
       "| 1 | 25434 | 1 | 2023-06-01 | SBUX | STARBUCKS CORP | 6748459 | 97.52 |  98.23 | 96.52 |  97.59 | 14 | 5812 | -0.12 | -8.17 | 1.71 |  1144476 | 2 | 6 | 2023 |\n",
       "| 2 | 25434 | 1 | 2023-06-02 | SBUX | STARBUCKS CORP | 6218737 | 99.50 |  99.66 | 98.19 |  98.31 | 14 | 5812 |  2.03 | -7.59 | 1.47 |  4864998 | 2 | 6 | 2023 |\n",
       "| 3 | 25434 | 1 | 2023-06-05 | SBUX | STARBUCKS CORP | 6532773 | 99.93 | 100.87 | 99.50 | 100.04 | 14 | 5812 |  0.43 | -5.58 | 1.37 | -2431908 | 2 | 6 | 2023 |\n",
       "| 4 | 25434 | 1 | 2023-06-06 | SBUX | STARBUCKS CORP | 8652959 | 98.22 | 100.33 | 97.53 |  99.74 | 14 | 5812 | -1.71 | -4.68 | 2.80 | -4388286 | 2 | 6 | 2023 |\n",
       "| 5 | 25434 | 1 | 2023-06-07 | SBUX | STARBUCKS CORP | 6283350 | 97.92 |  98.86 | 97.59 |  98.55 | 14 | 5812 | -0.31 | -2.42 | 1.27 | -3017987 | 2 | 6 | 2023 |\n",
       "| 6 | 25434 | 1 | 2023-06-08 | SBUX | STARBUCKS CORP | 6876627 | 99.15 |  99.18 | 96.92 |  97.65 | 14 | 5812 |  1.26 | -0.46 | 2.26 |  6694062 | 2 | 6 | 2023 |\n",
       "\n"
      ],
      "text/plain": [
       "  GVKEY iid datadate   tic  conm           cshtrd  prccd prchd  prcld prcod \n",
       "1 25434 1   2023-06-01 SBUX STARBUCKS CORP 6748459 97.52  98.23 96.52  97.59\n",
       "2 25434 1   2023-06-02 SBUX STARBUCKS CORP 6218737 99.50  99.66 98.19  98.31\n",
       "3 25434 1   2023-06-05 SBUX STARBUCKS CORP 6532773 99.93 100.87 99.50 100.04\n",
       "4 25434 1   2023-06-06 SBUX STARBUCKS CORP 8652959 98.22 100.33 97.53  99.74\n",
       "5 25434 1   2023-06-07 SBUX STARBUCKS CORP 6283350 97.92  98.86 97.59  98.55\n",
       "6 25434 1   2023-06-08 SBUX STARBUCKS CORP 6876627 99.15  99.18 96.92  97.65\n",
       "  exchg sic  daily_return ten_month_momentum daily_range mfv      2 month year\n",
       "1 14    5812 -0.12        -8.17              1.71         1144476 2 6     2023\n",
       "2 14    5812  2.03        -7.59              1.47         4864998 2 6     2023\n",
       "3 14    5812  0.43        -5.58              1.37        -2431908 2 6     2023\n",
       "4 14    5812 -1.71        -4.68              2.80        -4388286 2 6     2023\n",
       "5 14    5812 -0.31        -2.42              1.27        -3017987 2 6     2023\n",
       "6 14    5812  1.26        -0.46              2.26         6694062 2 6     2023"
      ]
     },
     "metadata": {},
     "output_type": "display_data"
    },
    {
     "name": "stdout",
     "output_type": "stream",
     "text": [
      "[1] \"151045270 trades\"\n"
     ]
    }
   ],
   "source": [
    "# Total Trading Volume, in June 2023\n",
    "\n",
    "head(sbux %>% filter(month == 6 & year == 2023))\n",
    "\n",
    "ttv_june23 <- sum(sbux$cshtrd[sbux$month == 6 & sbux$year == 2023], na.rm = TRUE)\n",
    "print(paste(ttv_june23, 'trades'))"
   ]
  },
  {
   "cell_type": "code",
   "execution_count": null,
   "id": "bdbe897d",
   "metadata": {
    "vscode": {
     "languageId": "r"
    }
   },
   "outputs": [
    {
     "name": "stdout",
     "output_type": "stream",
     "text": [
      "[1] \"0.03%\"\n"
     ]
    }
   ],
   "source": [
    "# Mean daily return, over entire time period\n",
    "mean_daily_return <- mean(sbux$daily_return, na.rm = TRUE)\n",
    "print(paste0(round(mean_daily_return, 2),'%'))"
   ]
  },
  {
   "cell_type": "code",
   "execution_count": 159,
   "id": "dc8194be",
   "metadata": {
    "vscode": {
     "languageId": "r"
    }
   },
   "outputs": [
    {
     "name": "stdout",
     "output_type": "stream",
     "text": [
      "[1] \"2021-07-23\"\n"
     ]
    }
   ],
   "source": [
    "# The date that saw the largest positive high price\n",
    "max_high_price <- sbux$datadate[sbux$prchd == max(sbux$prchd)]\n",
    "print(max_high_price)"
   ]
  },
  {
   "cell_type": "code",
   "execution_count": 171,
   "id": "888bc2f1",
   "metadata": {
    "vscode": {
     "languageId": "r"
    }
   },
   "outputs": [
    {
     "name": "stdout",
     "output_type": "stream",
     "text": [
      "[1] \"2022-05-04\"\n"
     ]
    }
   ],
   "source": [
    "# The date that saw the largest positive daily return\n",
    "# Inefficienct method \n",
    "# max_daily_return <- sbux$datadate[sbux$daily_return == max(sbux$daily_return, na.rm = TRUE)]\n",
    "# print(max_daily_return)\n",
    "\n",
    "max_return <- sbux$datadate[which.max(sbux$daily_return)]\n",
    "print(max_return)"
   ]
  },
  {
   "cell_type": "markdown",
   "id": "b4a8f264",
   "metadata": {
    "vscode": {
     "languageId": "r"
    }
   },
   "source": [
    "### Were there any corporate announcements on these dates which might explain these high numbers?\n",
    "\n",
    "Starbucks didn't release any major corporate annoucements on either of the dates that were identified to have the highest price and highest daily return. However, the company made several related annoucements in the days surrounding these dates: <br><br>\n",
    "- On July 27th 2021, Starbucks reported its third-quarter fiscal 2021 rearnings, which exceeded revenue expectations but saw a dorp on shares due to a weak outlook for China. The financial release also confirmed record third-quarter results.\n",
    "- October 27th 2021, Staburcks annouced a major investment in employee wages, training, and equipment, confirming that US partners would earniong a minimum of $15 per hour by the summer of 2022. <br><br> \n",
    "These annoucements most likely caused momentum in the market and it was most likely caused by retail investors who only executed trades a couple days after the annoucement due to market frictions and ambiguity of the market: once there was initial momentum, other retail investors followed (herd effect), causing momentum a few days after they saw market movement."
   ]
  }
 ],
 "metadata": {
  "kernelspec": {
   "display_name": "R",
   "language": "R",
   "name": "ir"
  },
  "language_info": {
   "codemirror_mode": "r",
   "file_extension": ".r",
   "mimetype": "text/x-r-source",
   "name": "R",
   "pygments_lexer": "r",
   "version": "4.5.1"
  }
 },
 "nbformat": 4,
 "nbformat_minor": 5
}
